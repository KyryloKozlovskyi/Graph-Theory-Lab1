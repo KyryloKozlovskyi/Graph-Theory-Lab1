{
 "cells": [
  {
   "cell_type": "code",
   "execution_count": 2,
   "id": "9c401760-3e25-4416-a336-3e714aceb29c",
   "metadata": {},
   "outputs": [],
   "source": [
    "import numpy as np"
   ]
  },
  {
   "cell_type": "code",
   "execution_count": 4,
   "id": "60a37ab2-3a3e-4908-830c-b01d1317c6b7",
   "metadata": {},
   "outputs": [],
   "source": [
    "# Exercise 1\n",
    "# (a) Create a graph G1 = (V1,E1)\n",
    "V1 = [\"a\",\"b\",\"c\",\"d\",\"e\"] # Vertices\n",
    "E1 = ({\"a\",\"b\"},{\"c\",\"d\"},{\"a\",\"d\"},{\"b\",\"c\"},{\"b\",\"d\"},{\"d\",\"e\"}) # Edges\n",
    "G1 = (V1,E1) # Graph consisting of vertices V1 and edges E1"
   ]
  },
  {
   "cell_type": "code",
   "execution_count": 6,
   "id": "224a045f-d2ce-4082-8eab-4a46554dc90b",
   "metadata": {},
   "outputs": [],
   "source": [
    "# (b) Create a function called calculateDegree, that calculates the degree of the\n",
    "# vertices in a graph. The return type should either be an array of integers or a\n",
    "# dictionary\n",
    "def calculateDegree(V, E):\n",
    "    counts = {}\n",
    "    # Initialize counts dictionary\n",
    "    for v in V:\n",
    "        counts[v] = 0\n",
    "    # Count the number of times a vertex appears in an edge\n",
    "    for v in V:\n",
    "        for e in E:\n",
    "            # If the vertex is in the edge, increment the count\n",
    "            if v in e:\n",
    "                counts[v] += 1\n",
    "    return counts"
   ]
  },
  {
   "cell_type": "code",
   "execution_count": 8,
   "id": "3d33048c-4662-4605-8c32-09da183674f2",
   "metadata": {},
   "outputs": [
    {
     "name": "stdout",
     "output_type": "stream",
     "text": [
      "{'a': 2, 'b': 3, 'c': 2, 'd': 4, 'e': 1}\n"
     ]
    }
   ],
   "source": [
    "# Test the function calculateDegree\n",
    "print(calculateDegree(V1, E1))\n"
   ]
  },
  {
   "cell_type": "code",
   "execution_count": 10,
   "id": "8bb11fc0-c2c2-40ce-b0e2-c281424b13b9",
   "metadata": {},
   "outputs": [],
   "source": [
    "# (c) Write a function called outputDegreeSequence to output a degree sequence.\n",
    "def outputDegreeSequence(D):\n",
    "    # Sort the dictionary by key in descending order\n",
    "    sorted_degrees = sorted(D.items(), key=lambda x:x[1], reverse=True)\n",
    "    # Convert the sorted list to a dictionary\n",
    "    converted_degrees = dict(sorted_degrees)\n",
    "    print(converted_degrees)"
   ]
  },
  {
   "cell_type": "code",
   "execution_count": 12,
   "id": "8c9d84e9-d0dc-4df4-97c5-f2c0a8992417",
   "metadata": {},
   "outputs": [
    {
     "name": "stdout",
     "output_type": "stream",
     "text": [
      "{'d': 4, 'b': 3, 'a': 2, 'c': 2, 'e': 1}\n"
     ]
    }
   ],
   "source": [
    "# Test the function outputDegreeSequence\n",
    "outputDegreeSequence(calculateDegree(V1, E1))"
   ]
  },
  {
   "cell_type": "code",
   "execution_count": 14,
   "id": "e63e733a-78b0-4dd2-96a2-1296bcc038db",
   "metadata": {},
   "outputs": [],
   "source": [
    "# Exercise 2\n",
    "# Create a function which outputs the Adjacency Matrix of a Graph. The output should be\n",
    "# a numpy matrix (so at the start use import numpy as np).\n",
    "def outputAdjacencyMatrix(V, E):\n",
    "    # Create an empty matrix\n",
    "    m = np.zeros((len(V), len(V)))\n",
    "    # Fill the matrix with 1s where there is an edge\n",
    "    for e in E:\n",
    "        # Find the index of the vertices in the edge\n",
    "        i = V.index(list(e)[0])\n",
    "        j = V.index(list(e)[1])\n",
    "        # Fill the matrix with 1s\n",
    "        m[i][j] = 1\n",
    "        m[j][i] = 1\n",
    "    # Return the matrix\n",
    "    return np.matrix(m)"
   ]
  },
  {
   "cell_type": "code",
   "execution_count": 16,
   "id": "cd90cdc5-8cbd-4667-8670-84305c7ecffd",
   "metadata": {},
   "outputs": [
    {
     "name": "stdout",
     "output_type": "stream",
     "text": [
      "[[0. 1. 0. 1. 0.]\n",
      " [1. 0. 1. 1. 0.]\n",
      " [0. 1. 0. 1. 0.]\n",
      " [1. 1. 1. 0. 1.]\n",
      " [0. 0. 0. 1. 0.]]\n"
     ]
    }
   ],
   "source": [
    "# Test the function outputAdjacencyMatrix\n",
    "print(outputAdjacencyMatrix(V1, E1))"
   ]
  },
  {
   "cell_type": "code",
   "execution_count": 18,
   "id": "e332f70d-8c80-454a-9168-62181e1553a7",
   "metadata": {},
   "outputs": [],
   "source": [
    "# Exercise 3\n",
    "# Create a function which takes a list of vertices and an adjacency matrix, and outputs a\n",
    "# list of edges.\n",
    "def outputListOfEdges(V, M):\n",
    "    E = []\n",
    "    for i in range(len(M)):\n",
    "        for j in range(i, len(M)):\n",
    "            # Check if the element at position [i,j] equals 1\n",
    "            if M[i,j] == 1:\n",
    "                E.append((V[i], V[j]))\n",
    "    return E"
   ]
  },
  {
   "cell_type": "code",
   "execution_count": 20,
   "id": "7b06089c-1e84-4fcc-80a1-78db02a458b9",
   "metadata": {},
   "outputs": [
    {
     "name": "stdout",
     "output_type": "stream",
     "text": [
      "[('a', 'b'), ('a', 'd'), ('b', 'c'), ('b', 'd'), ('c', 'd'), ('d', 'e')]\n"
     ]
    }
   ],
   "source": [
    "# Test the function outputListOfEdges\n",
    "print(outputListOfEdges(V1, outputAdjacencyMatrix(V1, E1)))"
   ]
  }
 ],
 "metadata": {
  "kernelspec": {
   "display_name": "Python [conda env:base] *",
   "language": "python",
   "name": "conda-base-py"
  },
  "language_info": {
   "codemirror_mode": {
    "name": "ipython",
    "version": 3
   },
   "file_extension": ".py",
   "mimetype": "text/x-python",
   "name": "python",
   "nbconvert_exporter": "python",
   "pygments_lexer": "ipython3",
   "version": "3.12.7"
  }
 },
 "nbformat": 4,
 "nbformat_minor": 5
}
