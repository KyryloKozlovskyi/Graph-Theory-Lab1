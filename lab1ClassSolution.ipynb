{
  "metadata": {
    "kernelspec": {
      "name": "python",
      "display_name": "Python (Pyodide)",
      "language": "python"
    },
    "language_info": {
      "codemirror_mode": {
        "name": "python",
        "version": 3
      },
      "file_extension": ".py",
      "mimetype": "text/x-python",
      "name": "python",
      "nbconvert_exporter": "python",
      "pygments_lexer": "ipython3",
      "version": "3.8"
    }
  },
  "nbformat_minor": 5,
  "nbformat": 4,
  "cells": [
    {
      "id": "11e431ff-719a-4570-bbe2-cc127952db2f",
      "cell_type": "code",
      "source": "V = [\"a\",\"b\",\"c\",\"d\"]\nE = [{\"a\",\"b\"}, {\"b\",\"c\"}, {\"d\",\"c\"}, {\"b\",\"d\"}]",
      "metadata": {
        "trusted": true
      },
      "outputs": [],
      "execution_count": 4
    },
    {
      "id": "5510c00e-0f0e-4955-a03c-b393ae5619af",
      "cell_type": "code",
      "source": "print(V)",
      "metadata": {
        "trusted": true
      },
      "outputs": [
        {
          "name": "stdout",
          "output_type": "stream",
          "text": "['a', 'b', 'c', 'd']\n"
        }
      ],
      "execution_count": 5
    },
    {
      "id": "c156b72b-4dc7-46fd-97ee-b43b427da43f",
      "cell_type": "code",
      "source": "print(E)",
      "metadata": {
        "trusted": true
      },
      "outputs": [
        {
          "name": "stdout",
          "output_type": "stream",
          "text": "[{'b', 'a'}, {'c', 'b'}, {'c', 'd'}, {'b', 'd'}]\n"
        }
      ],
      "execution_count": 6
    },
    {
      "id": "09846606-ec64-45c2-b451-cc66cf0a956e",
      "cell_type": "code",
      "source": "print(type(V))",
      "metadata": {
        "trusted": true
      },
      "outputs": [
        {
          "name": "stdout",
          "output_type": "stream",
          "text": "<class 'list'>\n"
        }
      ],
      "execution_count": 7
    },
    {
      "id": "e9ac9ba1-cca5-4213-a295-4cb790a3fd95",
      "cell_type": "code",
      "source": "print(type(E[1]))",
      "metadata": {
        "trusted": true
      },
      "outputs": [
        {
          "name": "stdout",
          "output_type": "stream",
          "text": "<class 'set'>\n"
        }
      ],
      "execution_count": 8
    },
    {
      "id": "240c9ca4-2292-4e8a-b97a-636d4050b34e",
      "cell_type": "code",
      "source": "D = {}",
      "metadata": {
        "trusted": true
      },
      "outputs": [],
      "execution_count": 9
    },
    {
      "id": "ef47a87d-98a0-46c3-822e-bd524534b341",
      "cell_type": "code",
      "source": "print(type(D))",
      "metadata": {
        "trusted": true
      },
      "outputs": [
        {
          "name": "stdout",
          "output_type": "stream",
          "text": "<class 'dict'>\n"
        }
      ],
      "execution_count": 10
    },
    {
      "id": "6093ac2e-f480-4271-92cb-1603e33234cf",
      "cell_type": "code",
      "source": "D[\"a\"] = 1\nprint(D)",
      "metadata": {
        "trusted": true
      },
      "outputs": [
        {
          "name": "stdout",
          "output_type": "stream",
          "text": "{'a': 1}\n"
        }
      ],
      "execution_count": 11
    },
    {
      "id": "66fc212e-b3bd-45ba-b43b-30d33717d18a",
      "cell_type": "code",
      "source": "D[\"b\"] = 3",
      "metadata": {
        "trusted": true
      },
      "outputs": [],
      "execution_count": 12
    },
    {
      "id": "2da8ac5e-b261-41f5-8766-f366c8de8939",
      "cell_type": "code",
      "source": "D[\"c\"] = 2\nD[\"d\"] = 2",
      "metadata": {
        "trusted": true
      },
      "outputs": [],
      "execution_count": 13
    },
    {
      "id": "89789332-f193-473b-b253-668127d921db",
      "cell_type": "code",
      "source": "print(D)",
      "metadata": {
        "trusted": true
      },
      "outputs": [
        {
          "name": "stdout",
          "output_type": "stream",
          "text": "{'a': 1, 'b': 3, 'c': 2, 'd': 2}\n"
        }
      ],
      "execution_count": 14
    },
    {
      "id": "8129799c-c029-4c08-bc2d-dd5e64914fab",
      "cell_type": "code",
      "source": "print(E)",
      "metadata": {
        "trusted": true
      },
      "outputs": [
        {
          "name": "stdout",
          "output_type": "stream",
          "text": "[{'b', 'a'}, {'c', 'b'}, {'c', 'd'}, {'b', 'd'}]\n"
        }
      ],
      "execution_count": 15
    },
    {
      "id": "7ee5dc46-eacd-4e73-9e78-cd84c5a0ef74",
      "cell_type": "code",
      "source": "for v in V:\n    print(v)",
      "metadata": {
        "trusted": true
      },
      "outputs": [
        {
          "name": "stdout",
          "output_type": "stream",
          "text": "a\nb\nc\nd\n"
        }
      ],
      "execution_count": 16
    },
    {
      "id": "a6a74ca6-1834-4982-949e-a6b452ed76e8",
      "cell_type": "code",
      "source": "for e in E:\n    for v in e:\n        print(v)",
      "metadata": {
        "trusted": true
      },
      "outputs": [
        {
          "name": "stdout",
          "output_type": "stream",
          "text": "b\na\nc\nb\nc\nd\nb\nd\n"
        }
      ],
      "execution_count": 17
    },
    {
      "id": "e9dc1991-eaa1-4439-a5fa-476b3f134d75",
      "cell_type": "code",
      "source": "import numpy as np",
      "metadata": {
        "trusted": true
      },
      "outputs": [],
      "execution_count": 18
    },
    {
      "id": "28896dec-025e-4376-8c04-a06e9b2d312f",
      "cell_type": "code",
      "source": "def printFunction(E):\n    for e in E:\n        for v in e:\n            print(v) \n            \nprintFunction(E)",
      "metadata": {
        "trusted": true
      },
      "outputs": [
        {
          "name": "stdout",
          "output_type": "stream",
          "text": "b\na\nc\nb\nc\nd\nb\nd\n"
        }
      ],
      "execution_count": 19
    },
    {
      "id": "43f16bc4-8bed-4d3f-bd8d-2e3acb95a749",
      "cell_type": "code",
      "source": "def calculateDegree(vertices, edges):\n    my_dict = {}\n    \n    for v in vertices:\n        my_dict[v] = 0\n\n    for e in edges:\n        for v in e:\n            my_dict[v] += 1\n    \n        \n    return my_dict",
      "metadata": {
        "trusted": true
      },
      "outputs": [],
      "execution_count": 20
    },
    {
      "id": "3d5077e5-2179-431f-b46d-28d146376be8",
      "cell_type": "code",
      "source": "D1 = calculateDegree(V, E)\nprint(D1)",
      "metadata": {
        "trusted": true
      },
      "outputs": [
        {
          "name": "stdout",
          "output_type": "stream",
          "text": "{'a': 1, 'b': 3, 'c': 2, 'd': 2}\n"
        }
      ],
      "execution_count": 21
    },
    {
      "id": "142c1f2d-8e97-40d0-9687-1b9e4d08cd16",
      "cell_type": "code",
      "source": "def calculateDegreeSequence(this_dict):\n    degree_sequence = []\n    \n    for t in this_dict:\n        degree_sequence.append(this_dict[t])\n        \n    degree_sequence.sort(reverse=True)\n        \n    return degree_sequence",
      "metadata": {
        "trusted": true
      },
      "outputs": [],
      "execution_count": 22
    },
    {
      "id": "2895799b-2c95-4ce3-968e-357b9829c399",
      "cell_type": "code",
      "source": "print(calculateDegreeSequence(D1))\n",
      "metadata": {
        "trusted": true
      },
      "outputs": [
        {
          "name": "stdout",
          "output_type": "stream",
          "text": "[3, 2, 2, 1]\n"
        }
      ],
      "execution_count": 23
    },
    {
      "id": "8b227192-72fa-4f76-8861-820b4999f96b",
      "cell_type": "code",
      "source": "import numpy as np",
      "metadata": {
        "trusted": true
      },
      "outputs": [],
      "execution_count": 24
    },
    {
      "id": "3067f004-a748-4fca-9eeb-92b5131d619e",
      "cell_type": "code",
      "source": "def adjMatrix(vert, edg):\n        m = np.matrix(vert, edg)\n        return m",
      "metadata": {
        "trusted": true
      },
      "outputs": [],
      "execution_count": 1
    },
    {
      "id": "608c2cfc-ae58-4cc5-a019-6d9f787d142f",
      "cell_type": "code",
      "source": "print(adjMatrix(V, E))",
      "metadata": {
        "trusted": true
      },
      "outputs": [
        {
          "ename": "<class 'NameError'>",
          "evalue": "name 'V' is not defined",
          "traceback": [
            "\u001b[0;31m---------------------------------------------------------------------------\u001b[0m",
            "\u001b[0;31mNameError\u001b[0m                                 Traceback (most recent call last)",
            "Cell \u001b[0;32mIn[3], line 1\u001b[0m\n\u001b[0;32m----> 1\u001b[0m \u001b[38;5;28mprint\u001b[39m(adjMatrix(\u001b[43mV\u001b[49m, E))\n",
            "\u001b[0;31mNameError\u001b[0m: name 'V' is not defined"
          ],
          "output_type": "error"
        }
      ],
      "execution_count": 3
    },
    {
      "id": "a8c58cdb-efe3-45c0-a18e-15c1961627ed",
      "cell_type": "code",
      "source": "",
      "metadata": {
        "trusted": true
      },
      "outputs": [],
      "execution_count": null
    }
  ]
}